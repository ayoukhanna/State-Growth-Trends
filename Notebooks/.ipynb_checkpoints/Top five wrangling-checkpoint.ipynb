{
 "cells": [
  {
   "cell_type": "code",
   "execution_count": null,
   "metadata": {},
   "outputs": [],
   "source": [
    "import pandas as pd\n",
    "from sqlalchemy import create_engine\n",
    "import numpy as np"
   ]
  },
  {
   "cell_type": "code",
   "execution_count": null,
   "metadata": {},
   "outputs": [],
   "source": [
    "#import cleaned csv\n",
    "state_estimates = pd.read_csv('../SQL/yearly_estimates_state.csv')\n",
    "state_estimates"
   ]
  },
  {
   "cell_type": "code",
   "execution_count": 21,
   "metadata": {},
   "outputs": [
    {
     "data": {
      "text/html": [
       "<div>\n",
       "<style scoped>\n",
       "    .dataframe tbody tr th:only-of-type {\n",
       "        vertical-align: middle;\n",
       "    }\n",
       "\n",
       "    .dataframe tbody tr th {\n",
       "        vertical-align: top;\n",
       "    }\n",
       "\n",
       "    .dataframe thead th {\n",
       "        text-align: right;\n",
       "    }\n",
       "</style>\n",
       "<table border=\"1\" class=\"dataframe\">\n",
       "  <thead>\n",
       "    <tr style=\"text-align: right;\">\n",
       "      <th></th>\n",
       "      <th>id</th>\n",
       "      <th>state</th>\n",
       "      <th>2010</th>\n",
       "      <th>2011</th>\n",
       "      <th>2012</th>\n",
       "      <th>2013</th>\n",
       "      <th>2014</th>\n",
       "      <th>2015</th>\n",
       "      <th>2016</th>\n",
       "      <th>2017</th>\n",
       "      <th>2018</th>\n",
       "      <th>2019</th>\n",
       "      <th>2020</th>\n",
       "    </tr>\n",
       "  </thead>\n",
       "  <tbody>\n",
       "    <tr>\n",
       "      <th>0</th>\n",
       "      <td>45</td>\n",
       "      <td>.Utah</td>\n",
       "      <td>2775413</td>\n",
       "      <td>2814797</td>\n",
       "      <td>2854146</td>\n",
       "      <td>2898773</td>\n",
       "      <td>2938327</td>\n",
       "      <td>2983626</td>\n",
       "      <td>3044241</td>\n",
       "      <td>3103540</td>\n",
       "      <td>3155153</td>\n",
       "      <td>3203383</td>\n",
       "      <td>3249879</td>\n",
       "    </tr>\n",
       "    <tr>\n",
       "      <th>1</th>\n",
       "      <td>44</td>\n",
       "      <td>.Texas</td>\n",
       "      <td>25241897</td>\n",
       "      <td>25645504</td>\n",
       "      <td>26084120</td>\n",
       "      <td>26479646</td>\n",
       "      <td>26963092</td>\n",
       "      <td>27468531</td>\n",
       "      <td>27914064</td>\n",
       "      <td>28291024</td>\n",
       "      <td>28624564</td>\n",
       "      <td>28986794</td>\n",
       "      <td>29360759</td>\n",
       "    </tr>\n",
       "    <tr>\n",
       "      <th>2</th>\n",
       "      <td>13</td>\n",
       "      <td>.Idaho</td>\n",
       "      <td>1570819</td>\n",
       "      <td>1584272</td>\n",
       "      <td>1595910</td>\n",
       "      <td>1612053</td>\n",
       "      <td>1632248</td>\n",
       "      <td>1652495</td>\n",
       "      <td>1684036</td>\n",
       "      <td>1719745</td>\n",
       "      <td>1752074</td>\n",
       "      <td>1789060</td>\n",
       "      <td>1826913</td>\n",
       "    </tr>\n",
       "    <tr>\n",
       "      <th>3</th>\n",
       "      <td>29</td>\n",
       "      <td>.Nevada</td>\n",
       "      <td>2702483</td>\n",
       "      <td>2713114</td>\n",
       "      <td>2744670</td>\n",
       "      <td>2776956</td>\n",
       "      <td>2818935</td>\n",
       "      <td>2868531</td>\n",
       "      <td>2919555</td>\n",
       "      <td>2972097</td>\n",
       "      <td>3030725</td>\n",
       "      <td>3090771</td>\n",
       "      <td>3138259</td>\n",
       "    </tr>\n",
       "    <tr>\n",
       "      <th>4</th>\n",
       "      <td>3</td>\n",
       "      <td>.Arizona</td>\n",
       "      <td>6407342</td>\n",
       "      <td>6473416</td>\n",
       "      <td>6556344</td>\n",
       "      <td>6634690</td>\n",
       "      <td>6732873</td>\n",
       "      <td>6832810</td>\n",
       "      <td>6944767</td>\n",
       "      <td>7048088</td>\n",
       "      <td>7164228</td>\n",
       "      <td>7291843</td>\n",
       "      <td>7421401</td>\n",
       "    </tr>\n",
       "  </tbody>\n",
       "</table>\n",
       "</div>"
      ],
      "text/plain": [
       "   id     state      2010      2011      2012      2013      2014      2015  \\\n",
       "0  45     .Utah   2775413   2814797   2854146   2898773   2938327   2983626   \n",
       "1  44    .Texas  25241897  25645504  26084120  26479646  26963092  27468531   \n",
       "2  13    .Idaho   1570819   1584272   1595910   1612053   1632248   1652495   \n",
       "3  29   .Nevada   2702483   2713114   2744670   2776956   2818935   2868531   \n",
       "4   3  .Arizona   6407342   6473416   6556344   6634690   6732873   6832810   \n",
       "\n",
       "       2016      2017      2018      2019      2020  \n",
       "0   3044241   3103540   3155153   3203383   3249879  \n",
       "1  27914064  28291024  28624564  28986794  29360759  \n",
       "2   1684036   1719745   1752074   1789060   1826913  \n",
       "3   2919555   2972097   3030725   3090771   3138259  \n",
       "4   6944767   7048088   7164228   7291843   7421401  "
      ]
     },
     "execution_count": 21,
     "metadata": {},
     "output_type": "execute_result"
    }
   ],
   "source": [
    "#filtered df to the top 5 states that have grown the most 2010-2020\n",
    "top_five_df = state_estimates.loc[[44,43,12,28,2], :].reset_index(drop=True)\n",
    "top_five_df"
   ]
  },
  {
   "cell_type": "code",
   "execution_count": null,
   "metadata": {},
   "outputs": [],
   "source": [
    "#selected arizona out of the top 5\n",
    "#dropped id and state colums\n",
    "#transposed df\n",
    "az=top_five_df.loc[top_five_df['state']=='.Arizona']\n",
    "az.drop(['id','state'],axis=1,inplace=True)\n",
    "az = az.T\n",
    "az"
   ]
  },
  {
   "cell_type": "code",
   "execution_count": null,
   "metadata": {},
   "outputs": [],
   "source": [
    "#reset index and renamed columns\n",
    "az=az.reset_index().rename(columns={4:'population','index':'year'})"
   ]
  },
  {
   "cell_type": "code",
   "execution_count": null,
   "metadata": {},
   "outputs": [],
   "source": [
    "#set year as index\n",
    "#converted year from object to datetime for forecasting in tableu\n",
    "az.set_index('year')\n",
    "az['year'] = pd.to_datetime(az['year'])"
   ]
  },
  {
   "cell_type": "code",
   "execution_count": null,
   "metadata": {},
   "outputs": [],
   "source": [
    "#exported to csv\n",
    "az.to_csv('arizona_data')"
   ]
  },
  {
   "cell_type": "code",
   "execution_count": null,
   "metadata": {},
   "outputs": [],
   "source": [
    "#created csv with Utah year and population to use for forecasting in tableu\n",
    "ut=top_five_df.loc[top_five_df['state']=='.Utah']\n",
    "ut.drop(['id','state'],axis=1,inplace=True)\n",
    "ut = ut.T\n",
    "ut = ut.reset_index().rename(columns={0:'population','index':'year'})\n",
    "ut.set_index('year')\n",
    "ut['year'] = pd.to_datetime(ut['year'])\n",
    "ut.to_csv('utah_data.csv')"
   ]
  },
  {
   "cell_type": "code",
   "execution_count": 23,
   "metadata": {},
   "outputs": [],
   "source": [
    "#created csv with Texas year and population to use for forecasting in tableu\n",
    "tx = top_five_df.loc[top_five_df['state']=='.Texas']\n",
    "tx.drop(['id','state'],axis=1,inplace=True)\n",
    "tx = tx.T\n",
    "tx = tx.reset_index().rename(columns={1:'population','index':'year'})\n",
    "tx.set_index('year')\n",
    "tx['year'] = pd.to_datetime(ut['year'])\n",
    "tx.to_csv('texas_data.csv')"
   ]
  },
  {
   "cell_type": "code",
   "execution_count": 24,
   "metadata": {},
   "outputs": [],
   "source": [
    "#created csv with Idaho year and population to use for forecasting in tableu\n",
    "ida = top_five_df.loc[top_five_df['state']=='.Idaho']\n",
    "ida.drop(['id','state'],axis=1,inplace=True)\n",
    "ida = ida.T\n",
    "ida = ida.reset_index().rename(columns={1:'population','index':'year'})\n",
    "ida.set_index('year')\n",
    "ida['year'] = pd.to_datetime(ida['year'])\n",
    "ida.to_csv('idaho_data.csv')"
   ]
  },
  {
   "cell_type": "code",
   "execution_count": 25,
   "metadata": {},
   "outputs": [],
   "source": [
    "#created csv with Nevada year and population to use for forecasting in tableu\n",
    "nv = top_five_df.loc[top_five_df['state']=='.Nevada']\n",
    "nv.drop(['id','state'],axis=1,inplace=True)\n",
    "nv = nv.T\n",
    "nv = nv.reset_index().rename(columns={1:'population','index':'year'})\n",
    "nv.set_index('year')\n",
    "nv['year'] = pd.to_datetime(nv['year'])\n",
    "nv.to_csv('nevada_data.csv')"
   ]
  },
  {
   "cell_type": "code",
   "execution_count": null,
   "metadata": {},
   "outputs": [],
   "source": []
  }
 ],
 "metadata": {
  "kernelspec": {
   "display_name": "Python 3",
   "language": "python",
   "name": "python3"
  },
  "language_info": {
   "codemirror_mode": {
    "name": "ipython",
    "version": 3
   },
   "file_extension": ".py",
   "mimetype": "text/x-python",
   "name": "python",
   "nbconvert_exporter": "python",
   "pygments_lexer": "ipython3",
   "version": "3.7.6"
  }
 },
 "nbformat": 4,
 "nbformat_minor": 4
}
